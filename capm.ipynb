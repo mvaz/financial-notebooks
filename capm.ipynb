{
 "metadata": {
  "name": ""
 },
 "nbformat": 3,
 "nbformat_minor": 0,
 "worksheets": [
  {
   "cells": [
    {
     "cell_type": "markdown",
     "metadata": {},
     "source": [
      "Inspiration:\n",
      "    \n",
      "    http://travisvaught.blogspot.de/2011/09/modern-portfolio-theory-python.html\n",
      "    http://www.casact.org/pubs/forum/95fforum/95ff355.pdf\n",
      "    http://www.quantandfinancial.com/2013/07/mean-variance-portfolio-optimization.html"
     ]
    },
    {
     "cell_type": "markdown",
     "metadata": {},
     "source": [
      "Correlation\n",
      "   $$ \\rho_{X,Y}=\\mathrm{corr}(X,Y)={\\mathrm{cov}(X,Y) \\over \\sigma_X \\sigma_Y} ={E[(X-\\mu_X)(Y-\\mu_Y)] \\over \\sigma_X\\sigma_Y} $$\n",
      "    \n",
      "\n",
      "    \n",
      "Covariance\n",
      "   $$\n",
      "    r_{xy}=\\frac{\\sum\\limits_{i=1}^n (x_i-\\bar{x})(y_i-\\bar{y})}{(n-1) s_x s_y} =\\frac{\\sum\\limits_{i=1}^n (x_i-\\bar{x})(y_i-\\bar{y})} {\\sqrt{\\sum\\limits_{i=1}^n (x_i-\\bar{x})^2 \\sum\\limits_{i=1}^n (y_i-\\bar{y})^2}}, $$"
     ]
    },
    {
     "cell_type": "markdown",
     "metadata": {},
     "source": [
      "Define\n",
      "\n",
      "$R = \\left(\n",
      "\\begin{array}{c}\n",
      "R_1\\\\\n",
      "\\vdots\\\\\n",
      "R_N\\\\\n",
      "\\end{array}\n",
      "\\right)$\n",
      "\n",
      "to be the random vector of returns where \n",
      "\n",
      "$E(R) = \\left(\n",
      "\\begin{array}{c}\n",
      "\\mu_1\\\\\n",
      "\\vdots\\\\\\\n",
      "\\mu_N\\\\\n",
      "\\end{array}\n",
      "\\right)$\n",
      "\n",
      "and $\\Sigma$ to the covariance matrix of $R$.\n",
      "Let \n",
      "\n",
      "$w = \\left(\n",
      "\\begin{array}{c}\n",
      "w_1\\\\\n",
      "\\vdots\\\\\n",
      "w_N\\\\\n",
      "\\end{array}\n",
      "\\right)$\n",
      "\n",
      "be a vector of portfolio weights so that $w_1 + \\ldots + w_N = 1^T w = 1$.\n",
      "The expected return of the portfolio is\n",
      "$$ \\sum_{i=1}^N w_i \\mu_i = w^T \\mu$$\n",
      "\n",
      "The variance of the return of the portfolio is\n",
      "\n",
      "$$ w^T \\Sigma w $$\n",
      "\n",
      "Thus, given a target \\mu_P, the efficient portfolio minimizes the variance above subject to:\n",
      "\n",
      "$$w^T = \\mu_P$$\n",
      "and\n",
      "$$w^T 1 = 1$$\n",
      "\n",
      "Quadratic programming function to be minimized\n",
      "\n",
      "$$ \\frac{1}{2} x^T D x - d^T x$$"
     ]
    },
    {
     "cell_type": "code",
     "collapsed": false,
     "input": [
      "#%%timeit\n",
      "\n",
      "#Get the data\n",
      "\n",
      "symbols = ['AAPL', 'GOOG', 'IBM']\n",
      "\n",
      "\n",
      "from datetime import datetime\n",
      "import pandas.io.pytables\n",
      "import pandas.io.data as web\n",
      "import time\n",
      "\n",
      "t0 = datetime(2007, 2, 1)\n",
      "t1 = datetime(2007, 5, 1)\n",
      "\n",
      "if True:\n",
      "    stx = web.DataReader(symbols, data_source=\"yahoo\", start=t0, end=t1)\n",
      "else:\n",
      "    with pandas.io.pytables.get_store('snp500.h5') as store:\n",
      "        stx = store['stx']\n",
      "#stx.Returns = stx.Close / stx.Close.shift(1)\n",
      "#print stx.Close"
     ],
     "language": "python",
     "metadata": {},
     "outputs": [],
     "prompt_number": 12
    },
    {
     "cell_type": "code",
     "collapsed": false,
     "input": [
      "stx.Returns = stx.Close / stx.Close.shift(1)\n",
      "\n",
      "print stx.Returns.quantile(q=0.05)"
     ],
     "language": "python",
     "metadata": {},
     "outputs": [
      {
       "output_type": "stream",
       "stream": "stdout",
       "text": [
        "AAPL    0.978848\n",
        "GOOG    0.978694\n",
        "IBM     0.985152\n",
        "dtype: float64\n"
       ]
      }
     ],
     "prompt_number": 13
    },
    {
     "cell_type": "code",
     "collapsed": false,
     "input": [
      "print stx.Returns.sum(axis=1).quantile(q=0.05)"
     ],
     "language": "python",
     "metadata": {},
     "outputs": [
      {
       "output_type": "stream",
       "stream": "stdout",
       "text": [
        "2.944893798\n"
       ]
      }
     ],
     "prompt_number": 11
    },
    {
     "cell_type": "code",
     "collapsed": false,
     "input": [
      "%%time\n",
      "stx.Close['Market'] = stx.Close.sum(axis=1)\n",
      "stx.Returns = stx.Close / stx.Close.shift(1)\n",
      "print stx.Returns.quantile(q=0.05)"
     ],
     "language": "python",
     "metadata": {},
     "outputs": [
      {
       "output_type": "stream",
       "stream": "stdout",
       "text": [
        "AAPL      0.978848\n",
        "GOOG      0.978694\n",
        "IBM       0.985152\n",
        "Market    0.979970\n",
        "dtype: float64\n",
        "CPU times: user 4 ms, sys: 0 ns, total: 4 ms\n",
        "Wall time: 4 ms\n"
       ]
      }
     ],
     "prompt_number": 19
    },
    {
     "cell_type": "code",
     "collapsed": false,
     "input": [
      "print stx.Returns.quantile(q=0.05)"
     ],
     "language": "python",
     "metadata": {},
     "outputs": [
      {
       "output_type": "stream",
       "stream": "stdout",
       "text": [
        "AAPL      0.978848\n",
        "GOOG      0.978694\n",
        "IBM       0.985152\n",
        "Market    0.979970\n",
        "dtype: float64\n"
       ]
      }
     ],
     "prompt_number": 16
    },
    {
     "cell_type": "code",
     "collapsed": false,
     "input": [
      "data = stx.Returns[t0:t1][ symbols ]\n",
      "\n",
      "def calibrate( data ):\n",
      "    mu = data.mean(axis=0)\n",
      "    sigma = data.cov()\n",
      "    return mu, sigm\n",
      "def return_stats( w, mean, sigma):\n",
      "    return w.T.dot(mean), w.dot(sigma).dot(w.T)\n",
      "# def return_var( portfolio, sigma):\n",
      "\n",
      "mu, s = calibrate(data)\n",
      "\n",
      "w = np.array( [0.2, 0.38, 0.42])\n",
      "print return_stats( w, mu, s )\n"
     ],
     "language": "python",
     "metadata": {},
     "outputs": [
      {
       "output_type": "stream",
       "stream": "stdout",
       "text": [
        "(1.0007244186981565, 0.00010525705289880438)\n"
       ]
      }
     ],
     "prompt_number": 17
    },
    {
     "cell_type": "code",
     "collapsed": false,
     "input": [
      "A = np.concatenate( (np.ones(3), mu))\n",
      "muP = np.linspace(0.01, 0.2, num=300)\n",
      "\n",
      "sdP = muP.copy()\n",
      "\n",
      "#A, muP, sdP"
     ],
     "language": "python",
     "metadata": {},
     "outputs": [],
     "prompt_number": 18
    },
    {
     "cell_type": "code",
     "collapsed": false,
     "input": [
      "## http://ivanidris.net/wordpress/index.php/2010/11/21/jarque-bera-the-capm-and-undervalued-stocks\n",
      "## http://docs.scipy.org/doc/scipy/reference/generated/scipy.optimize.minimize.html#scipy.optimize.minimize"
     ],
     "language": "python",
     "metadata": {},
     "outputs": []
    },
    {
     "cell_type": "code",
     "collapsed": false,
     "input": [
      "import numpy as np\n",
      "from scipy.optimize import minimize\n",
      "\n",
      "def get_func( mean, sigma):\n",
      "    def func(w, sign=1.0):\n",
      "        return w.dot(sigma).dot(w.T)\n",
      "    return func\n",
      "\n",
      "def compute_optimal_portfolio(target_value, allow_short_selling=True):\n",
      "    target_value = 1.05\n",
      "    mean, sigma = calibrate(data)\n",
      "    \n",
      "    #cons = [{'type': 'eq', 'fun': lambda w: np.sum(w) - 1.0},\n",
      "    #        {'type': 'eq', 'fun': lambda w: w.T.dot(mean) - target_value}]\n",
      "\n",
      "    cons = ({'type': 'eq', 'fun': lambda w: np.sum(w) - 1.0},\n",
      "            {'type': 'eq', 'fun': lambda w: w.T.dot(mean) - target_value})\n",
      "    \n",
      "    if not allow_short_selling:\n",
      "        bnds = ((0, None) for x in mean)\n",
      "        optimal_portfolio = minimize( get_func(mean, sigma), np.array([.2,.3,.5]), method='SLSQP', constraints = cons, bounds=bnds)\n",
      "    else:\n",
      "        optimal_portfolio = minimize( get_func(mean, sigma), np.array([.2,.3,.5]), method='SLSQP', constraints = cons)        \n",
      "    \n",
      "    return optimal_portfolio"
     ],
     "language": "python",
     "metadata": {},
     "outputs": [],
     "prompt_number": 15
    },
    {
     "cell_type": "code",
     "collapsed": false,
     "input": [
      "#  http://stackoverflow.com/questions/18218355/scipy-optimization-with-grouped-bounds\n",
      "#  http://www.quantandfinancial.com/2013/07/mean-variance-portfolio-optimization.html"
     ],
     "language": "python",
     "metadata": {},
     "outputs": []
    },
    {
     "cell_type": "code",
     "collapsed": false,
     "input": [
      "f = lambda x: 2 * x\n",
      "f(4)"
     ],
     "language": "python",
     "metadata": {},
     "outputs": [
      {
       "output_type": "pyout",
       "prompt_number": 1,
       "text": [
        "8"
       ]
      }
     ],
     "prompt_number": 1
    },
    {
     "cell_type": "code",
     "collapsed": false,
     "input": [
      "for ret in returns:\n",
      "    w = compute_optimal_portfolio(1.0, allow_short_selling=False)\n",
      "    if w.success: print w "
     ],
     "language": "python",
     "metadata": {},
     "outputs": [
      {
       "ename": "NameError",
       "evalue": "name 'returns' is not defined",
       "output_type": "pyerr",
       "traceback": [
        "\u001b[0;31m---------------------------------------------------------------------------\u001b[0m\n\u001b[0;31mNameError\u001b[0m                                 Traceback (most recent call last)",
        "\u001b[0;32m<ipython-input-16-1b738ac96451>\u001b[0m in \u001b[0;36m<module>\u001b[0;34m()\u001b[0m\n\u001b[0;32m----> 1\u001b[0;31m \u001b[0;32mfor\u001b[0m \u001b[0mret\u001b[0m \u001b[0;32min\u001b[0m \u001b[0mreturns\u001b[0m\u001b[0;34m:\u001b[0m\u001b[0;34m\u001b[0m\u001b[0m\n\u001b[0m\u001b[1;32m      2\u001b[0m     \u001b[0mw\u001b[0m \u001b[0;34m=\u001b[0m \u001b[0mcompute_optimal_portfolio\u001b[0m\u001b[0;34m(\u001b[0m\u001b[0;36m1.0\u001b[0m\u001b[0;34m,\u001b[0m \u001b[0mallow_short_selling\u001b[0m\u001b[0;34m=\u001b[0m\u001b[0mFalse\u001b[0m\u001b[0;34m)\u001b[0m\u001b[0;34m\u001b[0m\u001b[0m\n\u001b[1;32m      3\u001b[0m     \u001b[0;32mif\u001b[0m \u001b[0mw\u001b[0m\u001b[0;34m.\u001b[0m\u001b[0msuccess\u001b[0m\u001b[0;34m:\u001b[0m \u001b[0;32mprint\u001b[0m \u001b[0mw\u001b[0m\u001b[0;34m\u001b[0m\u001b[0m\n",
        "\u001b[0;31mNameError\u001b[0m: name 'returns' is not defined"
       ]
      }
     ],
     "prompt_number": 16
    },
    {
     "cell_type": "code",
     "collapsed": false,
     "input": [
      "w"
     ],
     "language": "python",
     "metadata": {},
     "outputs": [
      {
       "output_type": "pyout",
       "prompt_number": 51,
       "text": [
        "  status: 9\n",
        " success: False\n",
        "    njev: 101\n",
        "    nfev: 1142\n",
        "     fun: 0.00026184585486113996\n",
        "       x: array([  1.00024863e+00,  -1.29699470e-05,   5.89933152e-09])\n",
        " message: 'Iteration limit exceeded'\n",
        "     jac: array([ 0.00052356,  0.00024216,  0.00015369,  0.        ])\n",
        "     nit: 101"
       ]
      }
     ],
     "prompt_number": 51
    },
    {
     "cell_type": "code",
     "collapsed": false,
     "input": [
      "risk = np.linspace(0., 0.5, num=50)\n",
      "returns = np.linspace( 0., 2.0, num=100)\n",
      "\n",
      "np.meshgrid(returns, risk)\n",
      "np.meshgrid??"
     ],
     "language": "python",
     "metadata": {},
     "outputs": [],
     "prompt_number": 29
    },
    {
     "cell_type": "markdown",
     "metadata": {},
     "source": [
      "## Backtesting\n",
      "\n",
      "From t_1 on."
     ]
    },
    {
     "cell_type": "code",
     "collapsed": false,
     "input": [
      "    "
     ],
     "language": "python",
     "metadata": {},
     "outputs": [
      {
       "metadata": {},
       "output_type": "pyout",
       "prompt_number": 61,
       "text": [
        "1.0000000000000011"
       ]
      }
     ],
     "prompt_number": 61
    },
    {
     "cell_type": "code",
     "collapsed": false,
     "input": [
      "from ggplot import *\n",
      "tau = 250\n",
      "theta = tau\n",
      "t = np.linspace(1,tau, tau, endpoint=True)\n",
      "t\n",
      "\n",
      "w = np.exp( (t - tau) / theta)\n",
      "plot(w)"
     ],
     "language": "python",
     "metadata": {},
     "outputs": [
      {
       "metadata": {},
       "output_type": "pyout",
       "prompt_number": 6,
       "text": [
        "[<matplotlib.lines.Line2D at 0x10ec92c90>]"
       ]
      },
      {
       "output_type": "stream",
       "stream": "stderr",
       "text": [
        "/usr/local/lib/python2.7/site-packages/matplotlib/font_manager.py:1236: UserWarning: findfont: Font family ['serif'] not found. Falling back to Bitstream Vera Sans\n",
        "  (prop.get_family(), self.defaultFamily[fontext]))\n"
       ]
      },
      {
       "metadata": {},
       "output_type": "display_data",
       "png": "[encoded data removed]",
       "text": [
        "<matplotlib.figure.Figure at 0x10ec7a6d0>"
       ]
      }
     ],
     "prompt_number": 6
    },
    {
     "cell_type": "code",
     "collapsed": false,
     "input": [
      "import pandas\n",
      "\n",
      "pandas.ewmcorr"
     ],
     "language": "python",
     "metadata": {},
     "outputs": [
      {
       "ename": "TypeError",
       "evalue": "ewmcorr() takes at least 2 arguments (1 given)",
       "output_type": "pyerr",
       "traceback": [
        "\u001b[0;31m---------------------------------------------------------------------------\u001b[0m\n\u001b[0;31mTypeError\u001b[0m                                 Traceback (most recent call last)",
        "\u001b[0;32m<ipython-input-14-0d9ef7874acd>\u001b[0m in \u001b[0;36m<module>\u001b[0;34m()\u001b[0m\n\u001b[1;32m      1\u001b[0m \u001b[0;32mimport\u001b[0m \u001b[0mpandas\u001b[0m\u001b[0;34m\u001b[0m\u001b[0m\n\u001b[0;32m----> 2\u001b[0;31m \u001b[0mpandas\u001b[0m\u001b[0;34m.\u001b[0m\u001b[0mewmcorr\u001b[0m\u001b[0;34m(\u001b[0m\u001b[0mstx\u001b[0m\u001b[0;34m.\u001b[0m\u001b[0mReturns\u001b[0m\u001b[0;34m)\u001b[0m\u001b[0;34m\u001b[0m\u001b[0m\n\u001b[0m",
        "\u001b[0;31mTypeError\u001b[0m: ewmcorr() takes at least 2 arguments (1 given)"
       ]
      }
     ],
     "prompt_number": 14
    }
   ],
   "metadata": {}
  }
 ]
}
{
 "metadata": {
  "hide_input": false,
  "name": "",
  "signature": "sha256:73877d4888fa1a0d4bdd5f00c5f16d180f91baa9e69d102c6916b6463dc0894b"
 },
 "nbformat": 3,
 "nbformat_minor": 0,
 "worksheets": [
  {
   "cells": [
    {
     "cell_type": "markdown",
     "metadata": {},
     "source": [
      "### HSBC's Risk On Risk Off"
     ]
    },
    {
     "cell_type": "markdown",
     "metadata": {},
     "source": [
      "http://www.forexfactory.com/attachment.php?attachmentid=1123641&d=1359095911"
     ]
    },
    {
     "cell_type": "code",
     "collapsed": false,
     "input": [
      "%%html\n",
      "<object seamlesstabbing=\"undefined\" class=\"BrightcoveExperience\" id=\"myExperience1564382256001\"\n",
      " data=\"http://c.brightcove.com/services/viewer/federated_f9?&amp;width=1020&amp;height=720&amp;flashID=myExperience1564382256001&amp;bgcolor=%23FFFFFF&amp;playerID=1523564709001&amp;playerKey=AQ~~%2CAAABMVsCSjE~%2CI1Y6O05vqjxIV-adPi63FqOE1gETmu2G&amp;isVid=true&amp;dynamicStreaming=true&amp;%40videoPlayer=1564382256001&amp;autoStart=&amp;debuggerID=&amp;startTime=1417044600615\"\n",
      " type=\"application/x-shockwave-flash\" height=\"540\" width=\"765\">\n",
      "<param value=\"always\" name=\"allowScriptAccess\">\n",
      "<param value=\"true\" name=\"allowFullScreen\">b\n",
      "<param value=\"false\" name=\"seamlessTabbing\">\n",
      "<param value=\"true\" name=\"swliveconnect\">\n",
      "<param value=\"window\" name=\"wmode\">\n",
      "<param value=\"high\" name=\"quality\">\n",
      "<param value=\"#FFFFFF\" name=\"bgcolor\">\n",
      "</object>"
     ],
     "language": "python",
     "metadata": {},
     "outputs": [
      {
       "html": [
        "<object seamlesstabbing=\"undefined\" class=\"BrightcoveExperience\" id=\"myExperience1564382256001\"\n",
        " data=\"http://c.brightcove.com/services/viewer/federated_f9?&amp;width=1020&amp;height=720&amp;flashID=myExperience1564382256001&amp;bgcolor=%23FFFFFF&amp;playerID=1523564709001&amp;playerKey=AQ~~%2CAAABMVsCSjE~%2CI1Y6O05vqjxIV-adPi63FqOE1gETmu2G&amp;isVid=true&amp;dynamicStreaming=true&amp;%40videoPlayer=1564382256001&amp;autoStart=&amp;debuggerID=&amp;startTime=1417044600615\"\n",
        " type=\"application/x-shockwave-flash\" height=\"540\" width=\"765\">\n",
        "<param value=\"always\" name=\"allowScriptAccess\">\n",
        "<param value=\"true\" name=\"allowFullScreen\">b\n",
        "<param value=\"false\" name=\"seamlessTabbing\">\n",
        "<param value=\"true\" name=\"swliveconnect\">\n",
        "<param value=\"window\" name=\"wmode\">\n",
        "<param value=\"high\" name=\"quality\">\n",
        "<param value=\"#FFFFFF\" name=\"bgcolor\">\n",
        "</object>"
       ],
       "metadata": {},
       "output_type": "display_data",
       "text": [
        "<IPython.core.display.HTML at 0x106912490>"
       ]
      }
     ],
     "prompt_number": 1
    }
   ],
   "metadata": {}
  }
 ]
}